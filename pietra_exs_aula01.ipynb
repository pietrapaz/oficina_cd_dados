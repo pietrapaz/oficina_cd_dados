{
  "nbformat": 4,
  "nbformat_minor": 0,
  "metadata": {
    "colab": {
      "provenance": []
    },
    "kernelspec": {
      "name": "python3",
      "display_name": "Python 3"
    },
    "language_info": {
      "name": "python"
    }
  },
  "cells": [
    {
      "cell_type": "markdown",
      "source": [
        "# 1 - Informações\n",
        "\n",
        "#### Crie uma cópia desse notebook para a realização dos exercícios. Passos: Ficheiro -> Guardar uma cópia no Drive\n",
        "$$$$\n",
        "\n",
        "#### O **Colab** é uma ferramente altamente utilizada em **ciências de dados**, a qual necessita de pouca configuração, executa seu código na Nuvem da Google, vem com as bibliotecas pré-instaladas. Ou seja, se familiarizem com esse serviço :]\n",
        "$$$$\n",
        "\n",
        "### Declaração de variável em PYTHON\n",
        "- separar palavras por `_`\n",
        "- dar nomes autoexplicativos/ intuitivos\n",
        "- usar somente letras minúsculas\n",
        "\n",
        "O que NÃO fazer:\n",
        "- usar espaço\n",
        "- utilizar caracteres especiais, tirando o `_`\n",
        "- começar com número\n",
        "\n",
        "$$$$\n",
        "Principais formas de se declarar uma variável:\n",
        "```\n",
        "snake_case = \"LINGUAGENS:  PYTHON, Ruby, Rust, C\"\n",
        "camelCase = \"LINGUAGENS: Java, JavaScript, TypeScript, C#, Swift\"\n",
        "PascalCase = \"LINGUAGENS: Delphi, Pascal, C#, Swift, Objective-C\"\n",
        "\n",
        "```\n",
        "\n",
        "#Tipos de variáveis\n",
        "\n",
        "- int - numeros inteiros\n",
        "- float - numeros decimais\n",
        "- str - caracteres, palavras, frases, textos\n",
        "- bool - True ou False;\n",
        "- list - variável que pode conter diversos e diferentes tipos de valores\n",
        "- dict - cada valor possui uma chave\n",
        "- dataframe - tabela\n",
        "\n"
      ],
      "metadata": {
        "id": "rGpffKqpQo7A"
      }
    },
    {
      "cell_type": "markdown",
      "source": [],
      "metadata": {
        "id": "VtVd7F0dhECY"
      }
    },
    {
      "cell_type": "markdown",
      "source": [
        "## 1.1 - Operadores aritméticos\n",
        "\n",
        "| Operador | Símbolo | Descrição                         |\n",
        "|:----------:|:---------:|:-----------------------------------:|\n",
        "| Adição   | `+`     | Soma dois valores                 |\n",
        "| Subtração| `-`     | Subtrai o segundo valor do primeiro|\n",
        "| Multiplicação | `*` | Multiplica dois valores           |\n",
        "| Divisão  | `/`     | Divide o primeiro valor pelo segundo|\n",
        "| Módulo   | `%`     | Retorna o resto da divisão        |\n",
        "| Exponenciação | `**` | Eleva o primeiro valor à potência do segundo |\n",
        "| Divisão Inteira | `//` | Divide o primeiro valor pelo segundo e retorna a parte inteira do quociente |\n",
        "\n",
        "\n"
      ],
      "metadata": {
        "id": "nxgReoiCZZXs"
      }
    },
    {
      "cell_type": "markdown",
      "source": [
        "## 1.2 - Operadores Lógicos\n",
        "\n",
        "| Operador | Símbolo | Descrição                                               |\n",
        "|:----------:|:---------:|:---------------------------------------------------------:|\n",
        "| E lógico | `and`   | Retorna `True` se ambos os operandos forem verdadeiros  |\n",
        "| Ou lógico| `or`    | Retorna `True` se pelo menos um dos operandos for verdadeiro |\n",
        "| Não lógico | `not` | Inverte o valor lógico do operando                      |\n"
      ],
      "metadata": {
        "id": "456fscC_aWln"
      }
    },
    {
      "cell_type": "markdown",
      "source": [
        "## 1.3 - Estruturas de Repetição\n",
        "\n",
        "As estruturas de repetição, ou *loops*, são ferramentas essenciais em programação que permitem a execução repetida de um bloco de código. Elas são usadas para automatizar tarefas repetitivas e iterar sobre coleções de dados. Neste notebook, exploraremos as principais estruturas de repetição: `for`, `while`, e loops aninhados.\n",
        "$$$$\n",
        "\n",
        "#### Loop `for`\n",
        "\n",
        "O loop `for` é utilizado quando você sabe de antemão quantas vezes deseja executar um bloco de código. Ele é comumente usado para iterar sobre sequências, como listas, tuplas ou strings.\n",
        "$$$$\n",
        "\n",
        "#### Loop `while`\n",
        "\n",
        "O loop `while` é usado quando você deseja repetir um bloco de código enquanto uma condição específica é verdadeira. Este tipo de loop é útil quando o número de iterações não é conhecido de antemão.\n"
      ],
      "metadata": {
        "id": "XldiTHNJarUb"
      }
    },
    {
      "cell_type": "markdown",
      "source": [
        "## 1.4 - Estruturas Condicionais\n",
        "\n",
        "As estruturas condicionais permitem que o programa tome decisões diferentes com base em condições específicas. Elas são essenciais para controlar o fluxo de execução do código, permitindo que diferentes blocos de código sejam executados dependendo das condições dadas. Neste notebook, exploraremos as principais estruturas condicionais: `if`, `elif`, e `else`.\n",
        "\n",
        "#### Estrutura `if`\n",
        "\n",
        "A estrutura `if` avalia uma expressão booleana (verdadeira ou falsa). Se a condição for verdadeira, o bloco de código associado ao `if` será executado.\n",
        "\n",
        "#### Estrutura `if-else`\n",
        "\n",
        "A estrutura `if-else` permite que você defina um bloco de código para ser executado se a condição for verdadeira e outro bloco se a condição for falsa.\n",
        "\n",
        "#### Estrutura `if-elif-else`\n",
        "\n",
        "A estrutura `if-elif-else` é usada quando você precisa testar múltiplas condições. Se a primeira condição (`if`) for falsa, o programa verifica a próxima (`elif`), e assim por diante. Se nenhuma condição for verdadeira, o bloco `else` (se presente) será executado.\n"
      ],
      "metadata": {
        "id": "Yvy53OIodTww"
      }
    },
    {
      "cell_type": "markdown",
      "source": [
        "## Bonus\n",
        "\n",
        ">Para pedir um imput como entrada de dados, permitir que o usuário digite algo no terminal, use o comando `input()`, com ele, será possível digitar valores numéricos e strings para sua mariavel com uma mensagem desejada no seu terminal!\n",
        "\n",
        "***EXEMPLO:***"
      ],
      "metadata": {
        "id": "_D1pJtqBEyF6"
      }
    },
    {
      "cell_type": "code",
      "source": [
        "variavel = input(\"Digite algo: \")\n",
        "print(variavel)"
      ],
      "metadata": {
        "colab": {
          "base_uri": "https://localhost:8080/"
        },
        "id": "-M_tLSWSFUGS",
        "outputId": "578c85a6-f365-4e57-aee6-0d4b3a30d957"
      },
      "execution_count": null,
      "outputs": [
        {
          "output_type": "stream",
          "name": "stdout",
          "text": [
            "Digite algo: Teste123\n",
            "Teste123\n"
          ]
        }
      ]
    },
    {
      "cell_type": "markdown",
      "source": [
        "#2 - Exercícios"
      ],
      "metadata": {
        "id": "964V7rBYYtDB"
      }
    },
    {
      "cell_type": "markdown",
      "source": [
        "## 2.1 - Ex's Estrutura Sequêncial"
      ],
      "metadata": {
        "id": "PPTYNeAqQuu_"
      }
    },
    {
      "cell_type": "markdown",
      "source": [
        "1 - converta a altura de `Cm` para `Metros`\n"
      ],
      "metadata": {
        "id": "u8buxCaMfoqy"
      }
    },
    {
      "cell_type": "code",
      "source": [
        "# Declaração da variável\n",
        "altura = int(input(\"Insira sua altura em cm: \"))\n",
        "\n",
        "# Impressão do resultado\n",
        "altura_em_metros = altura / 100\n",
        "print(f\"Sua altura em metros é: {altura_em_metros}\")"
      ],
      "metadata": {
        "id": "logMzwpTr5RZ",
        "colab": {
          "base_uri": "https://localhost:8080/"
        },
        "outputId": "b1e60dca-e5e5-4987-82a1-68e0e95d7d2e"
      },
      "execution_count": null,
      "outputs": [
        {
          "output_type": "stream",
          "name": "stdout",
          "text": [
            "Insira sua altura em cm: 155\n",
            "Sua altura em metros é: 1.55\n"
          ]
        }
      ]
    },
    {
      "cell_type": "markdown",
      "source": [
        "---"
      ],
      "metadata": {
        "id": "vhE6bKys3hj3"
      }
    },
    {
      "cell_type": "markdown",
      "source": [
        "2 - Calcule o IMC de uma pessoa de:\n",
        "\n",
        "**altura(cm)**: 175\n",
        "**peso(kg)**: 72\n",
        "\n",
        "> $IMC = \\frac{peso}{altura^2}$"
      ],
      "metadata": {
        "id": "bz0s0lBpr1Gu"
      }
    },
    {
      "cell_type": "code",
      "source": [
        "# Declaração das variáveis\n",
        "peso = int(input(\"Insira seu peso: \"))\n",
        "altura_em_centimetros = int(input(\"Insira sua altura em cm: \"))\n",
        "altura_em_metros = altura_em_centimetros / 100\n",
        "imc = peso / (altura_em_metros**2)\n",
        "\n",
        "# Impressão do resultado\n",
        "print(f\"Seu IMC é: {imc}\")"
      ],
      "metadata": {
        "id": "rY83SnnFr0nu",
        "colab": {
          "base_uri": "https://localhost:8080/"
        },
        "outputId": "2408ce44-e070-4b11-c780-2b39957af185"
      },
      "execution_count": null,
      "outputs": [
        {
          "output_type": "stream",
          "name": "stdout",
          "text": [
            "Insira seu peso: 72\n",
            "Insira sua altura em cm: 175\n",
            "Seu IMC é: 23.510204081632654\n"
          ]
        }
      ]
    },
    {
      "cell_type": "markdown",
      "source": [
        "---"
      ],
      "metadata": {
        "id": "AnwTXywP3gij"
      }
    },
    {
      "cell_type": "markdown",
      "source": [
        "3 - Faça um Programa que peça a temperatura em graus **Fahrenheit**, transforme e mostre a temperatura em graus **Celsius**\n",
        "\n",
        "> $C = \\frac{5}{9} \\times (F - 32)$"
      ],
      "metadata": {
        "id": "G5sk_Zbbt9xT"
      }
    },
    {
      "cell_type": "code",
      "execution_count": null,
      "metadata": {
        "id": "nvoPBFF4QXYM",
        "colab": {
          "base_uri": "https://localhost:8080/"
        },
        "outputId": "ab92072e-0cb3-4051-baf0-aca789776d32"
      },
      "outputs": [
        {
          "output_type": "stream",
          "name": "stdout",
          "text": [
            "Insira a temperatura em Fahrenheit: 69\n",
            "Temperatura em C°: 20.555555555555557\n"
          ]
        }
      ],
      "source": [
        "# Declaração das variáveis\n",
        "temp_fahrenheit = int(input(\"Insira a temperatura em Fahrenheit: \"))\n",
        "temp_celsius = 5/9 * (temp_fahrenheit - 32)\n",
        "\n",
        "# Impressão do resultado\n",
        "# Insira a variável desejada entre os colchetes\n",
        "print(f\"Temperatura em C°: {temp_celsius}\" )"
      ]
    },
    {
      "cell_type": "markdown",
      "source": [
        "## 2.2. - Ex's Estrutura de Decisão"
      ],
      "metadata": {
        "id": "Jc6ZqaBMgeth"
      }
    },
    {
      "cell_type": "markdown",
      "source": [
        "1 - Faça um Programa que peça dois números e imprima o maior deles"
      ],
      "metadata": {
        "id": "SGZ2-lx9w8P0"
      }
    },
    {
      "cell_type": "code",
      "source": [
        "# Declaração das variáveis\n",
        "# Reveja os blocos de códigos anteriores\n",
        "try:\n",
        "  num1 = float(input(\"Insira um número: \"))\n",
        "  num2 = float(input(\"Insira outro número: \"))\n",
        "\n",
        "# Aplicação das condições e impressão do resultado\n",
        "  if num1 > num2:\n",
        "    print(f\"O maior número digitado é: {num1}\")\n",
        "  elif num2 > num1:\n",
        "    print(f\"O maior número digitado é: {num2}\")\n",
        "  else:\n",
        "      print(f\"Os números digitados são iguais: {num1}\")\n",
        "except ValueError as e:\n",
        "    print(f\"Erro: {e}. \\nPor favor, insira apenas números.\")"
      ],
      "metadata": {
        "id": "udJPpcfkxCOH",
        "colab": {
          "base_uri": "https://localhost:8080/"
        },
        "outputId": "fdf4f9fa-b7ec-42ac-d2da-c48d0c679d9c"
      },
      "execution_count": null,
      "outputs": [
        {
          "output_type": "stream",
          "name": "stdout",
          "text": [
            "Insira um número: 7\n",
            "Insira outro número: 8.9\n",
            "O maior número digitado é: 8.9\n"
          ]
        }
      ]
    },
    {
      "cell_type": "markdown",
      "source": [
        "---"
      ],
      "metadata": {
        "id": "0A15GPuO3efP"
      }
    },
    {
      "cell_type": "markdown",
      "source": [
        "2 - Faça um programa para a leitura de duas notas parciais de um aluno. O programa deve calcular a média alcançada por aluno e apresentar:\n",
        "- A mensagem \"Aprovado\", se a média alcançada for maior ou igual a sete;\n",
        "- A mensagem \"Reprovado\", se a média for menor do que sete;\n",
        "- A mensagem \"Aprovado com Distinção\", se a média for igual a dez."
      ],
      "metadata": {
        "id": "N3OaAfMaxbvj"
      }
    },
    {
      "cell_type": "code",
      "source": [
        "# Declaração das variáveis\n",
        "nota1 = float(input(\"Digite a nota 1: \"))\n",
        "nota2 = float(input(\"Digite a nota 2: \"))\n",
        "\n",
        "media = (nota1 + nota2) / 2\n",
        "\n",
        "print(\"Média: \", media)\n",
        "\n",
        "# Aplicação das condições e impressão dos resultados\n",
        "if media == 10:\n",
        "  print(\"Aprovado com Distinção\")\n",
        "elif media >= 7:\n",
        "  print(\"Aprovado\")\n",
        "else:\n",
        "  print(\"Reprovado\")"
      ],
      "metadata": {
        "id": "tP01SrafxxCN",
        "colab": {
          "base_uri": "https://localhost:8080/"
        },
        "outputId": "24d86923-4ab3-4713-dfb7-a5a2fab549db"
      },
      "execution_count": null,
      "outputs": [
        {
          "output_type": "stream",
          "name": "stdout",
          "text": [
            "Digite a nota 1: 8\n",
            "Digite a nota 2: 7\n",
            "Média:  7.5\n",
            "Aprovado\n"
          ]
        }
      ]
    },
    {
      "cell_type": "markdown",
      "source": [
        "---"
      ],
      "metadata": {
        "id": "H3pLpcfH3c9G"
      }
    },
    {
      "cell_type": "markdown",
      "source": [
        "3 - Faça um Programa que leia um número e exiba o dia correspondente da semana. (1-Domingo, 2- Segunda, etc.), se digitar outro valor deve aparecer valor inválido."
      ],
      "metadata": {
        "id": "7wSRJF9d1nyf"
      }
    },
    {
      "cell_type": "code",
      "source": [
        "# Declaração das variáveis\n",
        "num = int(input(\"Digite um número de 1 a 7: \"))\n",
        "\n",
        "# Aplicação das condições e impressão dos resultados\n",
        "\n",
        "if num == 1:\n",
        "  print(\"Domingo\")\n",
        "if num == 2:\n",
        "  print(\"Segunda\")\n",
        "if num == 3:\n",
        "  print(\"Terça\")\n",
        "if num == 4:\n",
        "  print(\"Quarta\")\n",
        "if num == 5:\n",
        "  print(\"Quinta\")\n",
        "if num == 6:\n",
        "  print(\"Sexta\")\n",
        "if num == 7:\n",
        "  print(\"Sábado\")"
      ],
      "metadata": {
        "id": "uulnG-kJ1zdc",
        "colab": {
          "base_uri": "https://localhost:8080/"
        },
        "outputId": "57194b9a-bcd0-4b41-eadf-e7dc35d0ff16"
      },
      "execution_count": null,
      "outputs": [
        {
          "output_type": "stream",
          "name": "stdout",
          "text": [
            "Digite um número de 1 a 7: 5\n",
            "Quinta\n"
          ]
        }
      ]
    },
    {
      "cell_type": "markdown",
      "source": [
        "## 2.3 - Ex's Estrutura de Repetição\n",
        "\n",
        "####Lembre-se da diferença entre `while` e `for` e não se esqueça que as condicionais(If, Else, Elif) são aplicaveis dentro das estruturas de repetição\n",
        "\n",
        "####Comece com a boa prática de inserir comentários intuitivos no seu código :)"
      ],
      "metadata": {
        "id": "-xvOhsQB2BVM"
      }
    },
    {
      "cell_type": "markdown",
      "source": [
        "1 - Faça um programa que peça uma nota, entre zero e dez. Mostre uma mensagem caso o valor seja inválido e continue pedindo até que o usuário informe um valor válido.\n"
      ],
      "metadata": {
        "id": "5PLU-B3O2GHs"
      }
    },
    {
      "cell_type": "markdown",
      "source": [
        "---"
      ],
      "metadata": {
        "id": "TBY2asee3WkD"
      }
    },
    {
      "cell_type": "code",
      "source": [
        "# Use while para repetição enquanto uma condição não for atendida\n"
      ],
      "metadata": {
        "id": "AISRB09DsU0c"
      },
      "execution_count": null,
      "outputs": []
    },
    {
      "cell_type": "markdown",
      "source": [
        "2 - Faça um programa que imprima na tela os números de 1 a 20, um abaixo do outro. Depois modifique o programa para que ele mostre os números um ao lado do outro."
      ],
      "metadata": {
        "id": "ZIDlRryF3Gs1"
      }
    },
    {
      "cell_type": "code",
      "source": [
        "# Utilize o for para iterar sobre os números range(1,21), lembre-se que o python\n",
        "# conta a partir do 0!\n",
        "\n",
        "# Para exibir outputs um do lado do outro, use end=' '\n"
      ],
      "metadata": {
        "id": "KNvrl5-B3LYy"
      },
      "execution_count": null,
      "outputs": []
    },
    {
      "cell_type": "markdown",
      "source": [
        "---"
      ],
      "metadata": {
        "id": "92msFhWl3YkG"
      }
    },
    {
      "cell_type": "markdown",
      "source": [
        "3 - Desenvolva um gerador de tabuada, capaz de gerar a tabuada de qualquer número inteiro entre 1 a 10. O usuário deve informar de qual numero ele deseja ver a tabuada.\n",
        "\n",
        "```\n",
        "Tabuada de 5:\n",
        "5 X 1 = 5\n",
        "5 X 2 = 10\n",
        "...\n",
        "5 X 10 = 50\n",
        "```"
      ],
      "metadata": {
        "id": "UMlwDWsh3LrF"
      }
    },
    {
      "cell_type": "code",
      "source": [
        "# Utilize um laço for/while para percorrer de um até 10, peça que o usuaria escolha\n",
        "# o número que ele deseja fazer a tabuada\n"
      ],
      "metadata": {
        "id": "Y19vkaX13U98"
      },
      "execution_count": null,
      "outputs": []
    }
  ]
}